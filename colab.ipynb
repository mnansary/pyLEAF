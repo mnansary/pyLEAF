{
  "nbformat": 4,
  "nbformat_minor": 0,
  "metadata": {
    "colab": {
      "name": "colab.ipynb",
      "provenance": [],
      "toc_visible": true
    },
    "kernelspec": {
      "name": "python3",
      "display_name": "Python 3"
    },
    "accelerator": "TPU"
  },
  "cells": [
    {
      "cell_type": "markdown",
      "metadata": {
        "id": "4EymdFf7yp_U"
      },
      "source": [
        "# PARAMETERS\n",
        "**BEFORE YOU START**\n",
        "* **Kaggle dataset GCS path** from [here](https://www.kaggle.com/nadimsarwar/dataset/edit/run/53975496)\n",
        "* **UPLOAD DATA CONFIG**\n",
        "\n",
        "**SET THE FOLLOWING VARIABLES**\n",
        "```python\n",
        "  GCS_PATH    :    The raw path of kaggle gcs \n",
        "  EPOCHS      :    number of epochs  \n",
        "  BUFFER_SIZE :    shuffle size of the buffer    \n",
        "  MODEL_NAME  :    name of the saved model\n",
        "  TF_IDEN     :    name of the zipped folder\n",
        "  DATA_FOLDER :    tfrecords folder\n",
        "``` "
      ]
    },
    {
      "cell_type": "code",
      "metadata": {
        "colab": {
          "base_uri": "https://localhost:8080/"
        },
        "id": "Q4y7rTBIxjrc",
        "outputId": "d97be837-c50e-449b-c5c5-93cc320857af"
      },
      "source": [
        "GCS_PATH    =    \"gs://kds-3e49f7183812d5c81512e7fb2f023181dc9485bec5bd3305f36356a5\"# @param \n",
        "MODEL_NAME  =    \"densenet121_leaf\"# @param\n",
        "DATA_FOLDER =    \"tfrecords\"# @param\n",
        "EPOCHS      =    250   #@param {type:\"slider\", min:10, max:500, step:10}  \n",
        "BUFFER_SIZE =    2048  # @param {type:\"slider\", min:128, max:2048, step:128}   \n",
        "WEIGHT_PATH =    f'{MODEL_NAME}.h5' \n",
        "\n",
        "GCS_PATH    =    f'{GCS_PATH}/{DATA_FOLDER}'\n",
        "print(GCS_PATH)\n",
        "print(WEIGHT_PATH)\n",
        "\n"
      ],
      "execution_count": 1,
      "outputs": [
        {
          "output_type": "stream",
          "text": [
            "gs://kds-3e49f7183812d5c81512e7fb2f023181dc9485bec5bd3305f36356a5/tfrecords\n",
            "densenet121_leaf.h5\n"
          ],
          "name": "stdout"
        }
      ]
    },
    {
      "cell_type": "markdown",
      "metadata": {
        "id": "gRyKZA_u1Fh4"
      },
      "source": [
        "# Config Reading"
      ]
    },
    {
      "cell_type": "code",
      "metadata": {
        "id": "jzGG2S4T1FLH"
      },
      "source": [
        "import json\n",
        "\n",
        "with open('config.json') as f:\n",
        "  config = json.load(f)\n",
        "\n",
        "IMAGE_TYPE =  config['image_type']\n",
        "IMG_DIM    =  config['img_dim']\n",
        "LABELS     =  config['labels']\n",
        "NB_CHANNEL =  config['nb_channels']\n",
        "NB_CLASSES =  config['nb_classes']\n",
        "NB_TRAIN   =  config['nb_test_data']\n",
        "NB_TEST    =  config['nb_train_data']\n"
      ],
      "execution_count": 2,
      "outputs": []
    },
    {
      "cell_type": "markdown",
      "metadata": {
        "id": "piOjb1EY77j5"
      },
      "source": [
        "# DEFAULT OPS: TPU TFrecords"
      ]
    },
    {
      "cell_type": "markdown",
      "metadata": {
        "id": "ljnNX33-3oXh"
      },
      "source": [
        "## TPU initialize"
      ]
    },
    {
      "cell_type": "code",
      "metadata": {
        "colab": {
          "base_uri": "https://localhost:8080/"
        },
        "id": "U2calqzckRF0",
        "outputId": "b88e2172-9e7d-42da-8f57-dc6fed2115b4"
      },
      "source": [
        "import tensorflow as tf \n",
        "import os \n",
        "\n",
        "\n",
        "print(tf.__version__)\n",
        "# Detect hardware, return appropriate distribution strategy\n",
        "try:\n",
        "    tpu = tf.distribute.cluster_resolver.TPUClusterResolver()  # TPU detection. No parameters necessary if TPU_NAME environment variable is set. On Kaggle this is always the case.\n",
        "    print('Running on TPU ', tpu.master())\n",
        "except ValueError:\n",
        "    tpu = None\n",
        "\n",
        "if tpu:\n",
        "    tf.config.experimental_connect_to_cluster(tpu)\n",
        "    tf.tpu.experimental.initialize_tpu_system(tpu)\n",
        "    strategy = tf.distribute.experimental.TPUStrategy(tpu)\n",
        "else:\n",
        "    strategy = tf.distribute.get_strategy() # default distribution strategy in Tensorflow. Works on CPU and single GPU.\n",
        "\n",
        "print(\"REPLICAS: \", strategy.num_replicas_in_sync)"
      ],
      "execution_count": 3,
      "outputs": [
        {
          "output_type": "stream",
          "text": [
            "2.4.1\n",
            "Running on TPU  grpc://10.12.234.146:8470\n",
            "INFO:tensorflow:Initializing the TPU system: grpc://10.12.234.146:8470\n"
          ],
          "name": "stdout"
        },
        {
          "output_type": "stream",
          "text": [
            "INFO:tensorflow:Initializing the TPU system: grpc://10.12.234.146:8470\n"
          ],
          "name": "stderr"
        },
        {
          "output_type": "stream",
          "text": [
            "INFO:tensorflow:Clearing out eager caches\n"
          ],
          "name": "stdout"
        },
        {
          "output_type": "stream",
          "text": [
            "INFO:tensorflow:Clearing out eager caches\n"
          ],
          "name": "stderr"
        },
        {
          "output_type": "stream",
          "text": [
            "INFO:tensorflow:Finished initializing TPU system.\n"
          ],
          "name": "stdout"
        },
        {
          "output_type": "stream",
          "text": [
            "INFO:tensorflow:Finished initializing TPU system.\n",
            "WARNING:absl:`tf.distribute.experimental.TPUStrategy` is deprecated, please use  the non experimental symbol `tf.distribute.TPUStrategy` instead.\n"
          ],
          "name": "stderr"
        },
        {
          "output_type": "stream",
          "text": [
            "INFO:tensorflow:Found TPU system:\n"
          ],
          "name": "stdout"
        },
        {
          "output_type": "stream",
          "text": [
            "INFO:tensorflow:Found TPU system:\n"
          ],
          "name": "stderr"
        },
        {
          "output_type": "stream",
          "text": [
            "INFO:tensorflow:*** Num TPU Cores: 8\n"
          ],
          "name": "stdout"
        },
        {
          "output_type": "stream",
          "text": [
            "INFO:tensorflow:*** Num TPU Cores: 8\n"
          ],
          "name": "stderr"
        },
        {
          "output_type": "stream",
          "text": [
            "INFO:tensorflow:*** Num TPU Workers: 1\n"
          ],
          "name": "stdout"
        },
        {
          "output_type": "stream",
          "text": [
            "INFO:tensorflow:*** Num TPU Workers: 1\n"
          ],
          "name": "stderr"
        },
        {
          "output_type": "stream",
          "text": [
            "INFO:tensorflow:*** Num TPU Cores Per Worker: 8\n"
          ],
          "name": "stdout"
        },
        {
          "output_type": "stream",
          "text": [
            "INFO:tensorflow:*** Num TPU Cores Per Worker: 8\n"
          ],
          "name": "stderr"
        },
        {
          "output_type": "stream",
          "text": [
            "INFO:tensorflow:*** Available Device: _DeviceAttributes(/job:localhost/replica:0/task:0/device:CPU:0, CPU, 0, 0)\n"
          ],
          "name": "stdout"
        },
        {
          "output_type": "stream",
          "text": [
            "INFO:tensorflow:*** Available Device: _DeviceAttributes(/job:localhost/replica:0/task:0/device:CPU:0, CPU, 0, 0)\n"
          ],
          "name": "stderr"
        },
        {
          "output_type": "stream",
          "text": [
            "INFO:tensorflow:*** Available Device: _DeviceAttributes(/job:worker/replica:0/task:0/device:CPU:0, CPU, 0, 0)\n"
          ],
          "name": "stdout"
        },
        {
          "output_type": "stream",
          "text": [
            "INFO:tensorflow:*** Available Device: _DeviceAttributes(/job:worker/replica:0/task:0/device:CPU:0, CPU, 0, 0)\n"
          ],
          "name": "stderr"
        },
        {
          "output_type": "stream",
          "text": [
            "INFO:tensorflow:*** Available Device: _DeviceAttributes(/job:worker/replica:0/task:0/device:TPU:0, TPU, 0, 0)\n"
          ],
          "name": "stdout"
        },
        {
          "output_type": "stream",
          "text": [
            "INFO:tensorflow:*** Available Device: _DeviceAttributes(/job:worker/replica:0/task:0/device:TPU:0, TPU, 0, 0)\n"
          ],
          "name": "stderr"
        },
        {
          "output_type": "stream",
          "text": [
            "INFO:tensorflow:*** Available Device: _DeviceAttributes(/job:worker/replica:0/task:0/device:TPU:1, TPU, 0, 0)\n"
          ],
          "name": "stdout"
        },
        {
          "output_type": "stream",
          "text": [
            "INFO:tensorflow:*** Available Device: _DeviceAttributes(/job:worker/replica:0/task:0/device:TPU:1, TPU, 0, 0)\n"
          ],
          "name": "stderr"
        },
        {
          "output_type": "stream",
          "text": [
            "INFO:tensorflow:*** Available Device: _DeviceAttributes(/job:worker/replica:0/task:0/device:TPU:2, TPU, 0, 0)\n"
          ],
          "name": "stdout"
        },
        {
          "output_type": "stream",
          "text": [
            "INFO:tensorflow:*** Available Device: _DeviceAttributes(/job:worker/replica:0/task:0/device:TPU:2, TPU, 0, 0)\n"
          ],
          "name": "stderr"
        },
        {
          "output_type": "stream",
          "text": [
            "INFO:tensorflow:*** Available Device: _DeviceAttributes(/job:worker/replica:0/task:0/device:TPU:3, TPU, 0, 0)\n"
          ],
          "name": "stdout"
        },
        {
          "output_type": "stream",
          "text": [
            "INFO:tensorflow:*** Available Device: _DeviceAttributes(/job:worker/replica:0/task:0/device:TPU:3, TPU, 0, 0)\n"
          ],
          "name": "stderr"
        },
        {
          "output_type": "stream",
          "text": [
            "INFO:tensorflow:*** Available Device: _DeviceAttributes(/job:worker/replica:0/task:0/device:TPU:4, TPU, 0, 0)\n"
          ],
          "name": "stdout"
        },
        {
          "output_type": "stream",
          "text": [
            "INFO:tensorflow:*** Available Device: _DeviceAttributes(/job:worker/replica:0/task:0/device:TPU:4, TPU, 0, 0)\n"
          ],
          "name": "stderr"
        },
        {
          "output_type": "stream",
          "text": [
            "INFO:tensorflow:*** Available Device: _DeviceAttributes(/job:worker/replica:0/task:0/device:TPU:5, TPU, 0, 0)\n"
          ],
          "name": "stdout"
        },
        {
          "output_type": "stream",
          "text": [
            "INFO:tensorflow:*** Available Device: _DeviceAttributes(/job:worker/replica:0/task:0/device:TPU:5, TPU, 0, 0)\n"
          ],
          "name": "stderr"
        },
        {
          "output_type": "stream",
          "text": [
            "INFO:tensorflow:*** Available Device: _DeviceAttributes(/job:worker/replica:0/task:0/device:TPU:6, TPU, 0, 0)\n"
          ],
          "name": "stdout"
        },
        {
          "output_type": "stream",
          "text": [
            "INFO:tensorflow:*** Available Device: _DeviceAttributes(/job:worker/replica:0/task:0/device:TPU:6, TPU, 0, 0)\n"
          ],
          "name": "stderr"
        },
        {
          "output_type": "stream",
          "text": [
            "INFO:tensorflow:*** Available Device: _DeviceAttributes(/job:worker/replica:0/task:0/device:TPU:7, TPU, 0, 0)\n"
          ],
          "name": "stdout"
        },
        {
          "output_type": "stream",
          "text": [
            "INFO:tensorflow:*** Available Device: _DeviceAttributes(/job:worker/replica:0/task:0/device:TPU:7, TPU, 0, 0)\n"
          ],
          "name": "stderr"
        },
        {
          "output_type": "stream",
          "text": [
            "INFO:tensorflow:*** Available Device: _DeviceAttributes(/job:worker/replica:0/task:0/device:TPU_SYSTEM:0, TPU_SYSTEM, 0, 0)\n"
          ],
          "name": "stdout"
        },
        {
          "output_type": "stream",
          "text": [
            "INFO:tensorflow:*** Available Device: _DeviceAttributes(/job:worker/replica:0/task:0/device:TPU_SYSTEM:0, TPU_SYSTEM, 0, 0)\n"
          ],
          "name": "stderr"
        },
        {
          "output_type": "stream",
          "text": [
            "INFO:tensorflow:*** Available Device: _DeviceAttributes(/job:worker/replica:0/task:0/device:XLA_CPU:0, XLA_CPU, 0, 0)\n"
          ],
          "name": "stdout"
        },
        {
          "output_type": "stream",
          "text": [
            "INFO:tensorflow:*** Available Device: _DeviceAttributes(/job:worker/replica:0/task:0/device:XLA_CPU:0, XLA_CPU, 0, 0)\n"
          ],
          "name": "stderr"
        },
        {
          "output_type": "stream",
          "text": [
            "REPLICAS:  8\n"
          ],
          "name": "stdout"
        }
      ]
    },
    {
      "cell_type": "markdown",
      "metadata": {
        "id": "kM2_ekih3sxP"
      },
      "source": [
        "## Training Params"
      ]
    },
    {
      "cell_type": "code",
      "metadata": {
        "id": "_fH9Ss4Y3iX3"
      },
      "source": [
        "BATCH_SIZE = 16 * strategy.num_replicas_in_sync\n",
        "TOTAL_DATA =  NB_TRAIN+NB_TEST \n",
        "STEPS_PER_EPOCH = TOTAL_DATA//BATCH_SIZE\n",
        "EVAL_STEPS      = NB_TEST//BATCH_SIZE"
      ],
      "execution_count": 4,
      "outputs": []
    },
    {
      "cell_type": "markdown",
      "metadata": {
        "id": "PKeTVSaM3uvJ"
      },
      "source": [
        "## Data input function"
      ]
    },
    {
      "cell_type": "code",
      "metadata": {
        "id": "QsIWYmcMt-8A"
      },
      "source": [
        "def data_input_fn(mode): \n",
        "    '''\n",
        "      This Function generates data from gcs\n",
        "    '''\n",
        "    \n",
        "    def _parser(example):\n",
        "        feature ={  'image'  : tf.io.FixedLenFeature((),tf.string) ,\n",
        "                    'label'  : tf.io.FixedLenFeature((),tf.int64)\n",
        "        }    \n",
        "        parsed_example=tf.io.parse_single_example(example,feature)\n",
        "        image_raw=parsed_example['image']\n",
        "        image=tf.image.decode_png(image_raw,channels=NB_CHANNEL)\n",
        "        image=tf.cast(image,tf.float32)/255.0\n",
        "        image=tf.reshape(image,(IMG_DIM,IMG_DIM,NB_CHANNEL))\n",
        "        \n",
        "        idx = tf.cast(parsed_example['label'], tf.int32)\n",
        "        label=tf.one_hot(idx,NB_CLASSES,dtype=tf.float32)\n",
        "        return image,label\n",
        "\n",
        "    gcs_pattern=os.path.join(GCS_PATH,mode,'*.tfrecord')\n",
        "    file_paths = tf.io.gfile.glob(gcs_pattern)\n",
        "    dataset = tf.data.TFRecordDataset(file_paths)\n",
        "    dataset = dataset.map(_parser)\n",
        "    dataset = dataset.shuffle(BUFFER_SIZE,reshuffle_each_iteration=True)\n",
        "    dataset = dataset.repeat()\n",
        "    dataset = dataset.batch(BATCH_SIZE,drop_remainder=True)\n",
        "    dataset = dataset.prefetch(tf.data.experimental.AUTOTUNE)\n",
        "    return dataset\n"
      ],
      "execution_count": 5,
      "outputs": []
    },
    {
      "cell_type": "markdown",
      "metadata": {
        "id": "HMs5mC_x3yIC"
      },
      "source": [
        "# Data Check"
      ]
    },
    {
      "cell_type": "code",
      "metadata": {
        "colab": {
          "base_uri": "https://localhost:8080/",
          "height": 320
        },
        "id": "p0MlgE8Auhzj",
        "outputId": "1ecbda9c-59dd-4caa-bc91-6e2337f29845"
      },
      "source": [
        "import numpy as np\n",
        "import matplotlib.pyplot as plt\n",
        "%matplotlib inline\n",
        "\n",
        "train_ds  =   data_input_fn(\"train\")\n",
        "test_ds   =   data_input_fn(\"test\")\n",
        "\n",
        "\n",
        "for x,y in train_ds.take(1):\n",
        "    data=np.squeeze(x[0])\n",
        "    plt.imshow(data)\n",
        "    plt.show()\n",
        "    print('Image Batch Shape:',x.shape)\n",
        "    print('Target Batch Shape:',y.shape)\n",
        "    print(y[0])"
      ],
      "execution_count": 6,
      "outputs": [
        {
          "output_type": "display_data",
          "data": {
            "image/png": "[encoded data removed]",
            "text/plain": [
              "<Figure size 432x288 with 1 Axes>"
            ]
          },
          "metadata": {
            "tags": [],
            "needs_background": "light"
          }
        },
        {
          "output_type": "stream",
          "text": [
            "Image Batch Shape: (128, 256, 256, 3)\n",
            "Target Batch Shape: (128, 4)\n",
            "tf.Tensor([1. 0. 0. 0.], shape=(4,), dtype=float32)\n"
          ],
          "name": "stdout"
        }
      ]
    },
    {
      "cell_type": "markdown",
      "metadata": {
        "id": "-FUNg8BYfq4J"
      },
      "source": [
        "# MODEL definition\n",
        "**THIS IS CHANGEABLE**"
      ]
    },
    {
      "cell_type": "code",
      "metadata": {
        "colab": {
          "base_uri": "https://localhost:8080/"
        },
        "id": "ycvTi0GIvelK",
        "outputId": "5b14ae1f-4e19-4443-aa3c-377b59aed1f8"
      },
      "source": [
        "from tensorflow.keras.applications import DenseNet121\n",
        "with strategy.scope():\n",
        "    rnet = DenseNet121(\n",
        "        input_shape=(IMG_DIM,IMG_DIM,NB_CHANNEL),\n",
        "        weights=\"imagenet\",\n",
        "        include_top=False\n",
        "    )\n",
        "    # trainable rnet\n",
        "    rnet.trainable = True\n",
        "    model = tf.keras.Sequential([\n",
        "        rnet,\n",
        "        tf.keras.layers.GlobalAveragePooling2D(),\n",
        "        tf.keras.layers.Dense(NB_CLASSES, activation='softmax',dtype='float32')\n",
        "    ])\n",
        "    model.compile(\n",
        "        optimizer='adam',\n",
        "        loss = 'categorical_crossentropy',\n",
        "        metrics=['categorical_accuracy']\n",
        "    )\n",
        "\n",
        "model.summary()"
      ],
      "execution_count": 7,
      "outputs": [
        {
          "output_type": "stream",
          "text": [
            "Downloading data from https://storage.googleapis.com/tensorflow/keras-applications/densenet/densenet121_weights_tf_dim_ordering_tf_kernels_notop.h5\n",
            "29089792/29084464 [==============================] - 0s 0us/step\n",
            "Model: \"sequential\"\n",
            "_________________________________________________________________\n",
            "Layer (type)                 Output Shape              Param #   \n",
            "=================================================================\n",
            "densenet121 (Functional)     (None, 8, 8, 1024)        7037504   \n",
            "_________________________________________________________________\n",
            "global_average_pooling2d (Gl (None, 1024)              0         \n",
            "_________________________________________________________________\n",
            "dense (Dense)                (None, 4)                 4100      \n",
            "=================================================================\n",
            "Total params: 7,041,604\n",
            "Trainable params: 6,957,956\n",
            "Non-trainable params: 83,648\n",
            "_________________________________________________________________\n"
          ],
          "name": "stdout"
        }
      ]
    },
    {
      "cell_type": "markdown",
      "metadata": {
        "id": "A3TKjiZchG9o"
      },
      "source": [
        "## Callbacks\n",
        "**CHANGABLE**"
      ]
    },
    {
      "cell_type": "code",
      "metadata": {
        "colab": {
          "base_uri": "https://localhost:8080/"
        },
        "id": "Q7_t5R56whLB",
        "outputId": "c4abdfaf-723f-4ae8-bebe-f6c0ddee1718"
      },
      "source": [
        "\n",
        "# reduces learning rate on plateau\n",
        "lr_reducer = tf.keras.callbacks.ReduceLROnPlateau(factor=0.1,\n",
        "                                                  cooldown= 10,\n",
        "                                                  patience=10,\n",
        "                                                  verbose =1,\n",
        "                                                  min_lr=0.1e-5)\n",
        "\n",
        "mode_autosave = tf.keras.callbacks.ModelCheckpoint(WEIGHT_PATH,\n",
        "                                                  monitor='val_categorical_accuracy', \n",
        "                                                  mode = 'max', \n",
        "                                                  save_best_only=True, \n",
        "                                                  verbose=1, \n",
        "                                                  period =1)\n",
        "\n",
        "# stop learining as metric on validatopn stop increasing\n",
        "early_stopping = tf.keras.callbacks.EarlyStopping(patience=15, \n",
        "                                                  verbose=1, \n",
        "                                                  mode = 'auto') \n",
        "\n",
        "callbacks = [mode_autosave, lr_reducer,early_stopping ]\n"
      ],
      "execution_count": 8,
      "outputs": [
        {
          "output_type": "stream",
          "text": [
            "WARNING:tensorflow:`period` argument is deprecated. Please use `save_freq` to specify the frequency in number of batches seen.\n"
          ],
          "name": "stdout"
        },
        {
          "output_type": "stream",
          "text": [
            "WARNING:tensorflow:`period` argument is deprecated. Please use `save_freq` to specify the frequency in number of batches seen.\n"
          ],
          "name": "stderr"
        }
      ]
    },
    {
      "cell_type": "markdown",
      "metadata": {
        "id": "6wgjdJlu8Gy5"
      },
      "source": [
        "# MODELING"
      ]
    },
    {
      "cell_type": "markdown",
      "metadata": {
        "id": "Ep29kAKo4Bf9"
      },
      "source": [
        "## Model training"
      ]
    },
    {
      "cell_type": "code",
      "metadata": {
        "colab": {
          "base_uri": "https://localhost:8080/"
        },
        "id": "ZPMnZ7_wwZjt",
        "outputId": "625e60c3-4c79-448a-8b7d-5fd48320f31c"
      },
      "source": [
        "history = model.fit(train_ds,\n",
        "                    steps_per_epoch=STEPS_PER_EPOCH,\n",
        "                    epochs=EPOCHS,\n",
        "                    verbose=1, \n",
        "                    validation_data=test_ds,\n",
        "                    validation_steps=EVAL_STEPS,\n",
        "                    callbacks=callbacks)"
      ],
      "execution_count": 9,
      "outputs": [
        {
          "output_type": "stream",
          "text": [
            "Epoch 1/250\n",
            "16/16 [==============================] - 92s 1s/step - loss: 1.4504 - categorical_accuracy: 0.4184 - val_loss: 6.7337 - val_categorical_accuracy: 0.2832\n",
            "\n",
            "Epoch 00001: val_categorical_accuracy improved from -inf to 0.28320, saving model to densenet121_leaf.h5\n",
            "Epoch 2/250\n",
            "16/16 [==============================] - 12s 808ms/step - loss: 0.8715 - categorical_accuracy: 0.6333 - val_loss: 27.1534 - val_categorical_accuracy: 0.2500\n",
            "\n",
            "Epoch 00002: val_categorical_accuracy did not improve from 0.28320\n",
            "Epoch 3/250\n",
            "16/16 [==============================] - 11s 747ms/step - loss: 0.6815 - categorical_accuracy: 0.7374 - val_loss: 4.1463 - val_categorical_accuracy: 0.4076\n",
            "\n",
            "Epoch 00003: val_categorical_accuracy improved from 0.28320 to 0.40755, saving model to densenet121_leaf.h5\n",
            "Epoch 4/250\n",
            "16/16 [==============================] - 11s 738ms/step - loss: 0.5761 - categorical_accuracy: 0.7778 - val_loss: 3.2997 - val_categorical_accuracy: 0.4154\n",
            "\n",
            "Epoch 00004: val_categorical_accuracy improved from 0.40755 to 0.41536, saving model to densenet121_leaf.h5\n",
            "Epoch 5/250\n",
            "16/16 [==============================] - 11s 742ms/step - loss: 0.4868 - categorical_accuracy: 0.8180 - val_loss: 2.9774 - val_categorical_accuracy: 0.4232\n",
            "\n",
            "Epoch 00005: val_categorical_accuracy improved from 0.41536 to 0.42318, saving model to densenet121_leaf.h5\n",
            "Epoch 6/250\n",
            "16/16 [==============================] - 11s 739ms/step - loss: 0.3843 - categorical_accuracy: 0.8582 - val_loss: 1.9397 - val_categorical_accuracy: 0.4160\n",
            "\n",
            "Epoch 00006: val_categorical_accuracy did not improve from 0.42318\n",
            "Epoch 7/250\n",
            "16/16 [==============================] - 11s 746ms/step - loss: 0.3095 - categorical_accuracy: 0.8751 - val_loss: 1.5134 - val_categorical_accuracy: 0.4538\n",
            "\n",
            "Epoch 00007: val_categorical_accuracy improved from 0.42318 to 0.45378, saving model to densenet121_leaf.h5\n",
            "Epoch 8/250\n",
            "16/16 [==============================] - 11s 729ms/step - loss: 0.2147 - categorical_accuracy: 0.9271 - val_loss: 1.9624 - val_categorical_accuracy: 0.4811\n",
            "\n",
            "Epoch 00008: val_categorical_accuracy improved from 0.45378 to 0.48112, saving model to densenet121_leaf.h5\n",
            "Epoch 9/250\n",
            "16/16 [==============================] - 11s 737ms/step - loss: 0.2818 - categorical_accuracy: 0.8978 - val_loss: 1.8359 - val_categorical_accuracy: 0.4753\n",
            "\n",
            "Epoch 00009: val_categorical_accuracy did not improve from 0.48112\n",
            "Epoch 10/250\n",
            "16/16 [==============================] - 11s 739ms/step - loss: 0.2563 - categorical_accuracy: 0.8996 - val_loss: 2.1367 - val_categorical_accuracy: 0.5046\n",
            "\n",
            "Epoch 00010: val_categorical_accuracy improved from 0.48112 to 0.50456, saving model to densenet121_leaf.h5\n",
            "Epoch 11/250\n",
            "16/16 [==============================] - 11s 727ms/step - loss: 0.1920 - categorical_accuracy: 0.9461 - val_loss: 1.7812 - val_categorical_accuracy: 0.5658\n",
            "\n",
            "Epoch 00011: val_categorical_accuracy improved from 0.50456 to 0.56576, saving model to densenet121_leaf.h5\n",
            "Epoch 12/250\n",
            "16/16 [==============================] - 11s 745ms/step - loss: 0.1796 - categorical_accuracy: 0.9320 - val_loss: 1.9154 - val_categorical_accuracy: 0.5241\n",
            "\n",
            "Epoch 00012: val_categorical_accuracy did not improve from 0.56576\n",
            "Epoch 13/250\n",
            "16/16 [==============================] - 11s 743ms/step - loss: 0.1367 - categorical_accuracy: 0.9525 - val_loss: 1.7764 - val_categorical_accuracy: 0.6296\n",
            "\n",
            "Epoch 00013: val_categorical_accuracy improved from 0.56576 to 0.62956, saving model to densenet121_leaf.h5\n",
            "Epoch 14/250\n",
            "16/16 [==============================] - 11s 738ms/step - loss: 0.1566 - categorical_accuracy: 0.9453 - val_loss: 2.3556 - val_categorical_accuracy: 0.5098\n",
            "\n",
            "Epoch 00014: val_categorical_accuracy did not improve from 0.62956\n",
            "Epoch 15/250\n",
            "16/16 [==============================] - 11s 739ms/step - loss: 0.1967 - categorical_accuracy: 0.9219 - val_loss: 2.2664 - val_categorical_accuracy: 0.6009\n",
            "\n",
            "Epoch 00015: val_categorical_accuracy did not improve from 0.62956\n",
            "Epoch 16/250\n",
            "16/16 [==============================] - 11s 740ms/step - loss: 0.1465 - categorical_accuracy: 0.9498 - val_loss: 1.7857 - val_categorical_accuracy: 0.6107\n",
            "\n",
            "Epoch 00016: val_categorical_accuracy did not improve from 0.62956\n",
            "Epoch 17/250\n",
            "16/16 [==============================] - 11s 736ms/step - loss: 0.1258 - categorical_accuracy: 0.9607 - val_loss: 1.4597 - val_categorical_accuracy: 0.6458\n",
            "\n",
            "Epoch 00017: val_categorical_accuracy improved from 0.62956 to 0.64583, saving model to densenet121_leaf.h5\n",
            "Epoch 18/250\n",
            "16/16 [==============================] - 11s 741ms/step - loss: 0.0768 - categorical_accuracy: 0.9756 - val_loss: 1.4069 - val_categorical_accuracy: 0.6712\n",
            "\n",
            "Epoch 00018: val_categorical_accuracy improved from 0.64583 to 0.67122, saving model to densenet121_leaf.h5\n",
            "Epoch 19/250\n",
            "16/16 [==============================] - 11s 738ms/step - loss: 0.0857 - categorical_accuracy: 0.9740 - val_loss: 1.5404 - val_categorical_accuracy: 0.5827\n",
            "\n",
            "Epoch 00019: val_categorical_accuracy did not improve from 0.67122\n",
            "Epoch 20/250\n",
            "16/16 [==============================] - 11s 748ms/step - loss: 0.0744 - categorical_accuracy: 0.9745 - val_loss: 1.6028 - val_categorical_accuracy: 0.6510\n",
            "\n",
            "Epoch 00020: val_categorical_accuracy did not improve from 0.67122\n",
            "Epoch 21/250\n",
            "16/16 [==============================] - 11s 736ms/step - loss: 0.0690 - categorical_accuracy: 0.9788 - val_loss: 1.3107 - val_categorical_accuracy: 0.6797\n",
            "\n",
            "Epoch 00021: val_categorical_accuracy improved from 0.67122 to 0.67969, saving model to densenet121_leaf.h5\n",
            "Epoch 22/250\n",
            "16/16 [==============================] - 11s 739ms/step - loss: 0.0523 - categorical_accuracy: 0.9843 - val_loss: 1.2233 - val_categorical_accuracy: 0.7337\n",
            "\n",
            "Epoch 00022: val_categorical_accuracy improved from 0.67969 to 0.73372, saving model to densenet121_leaf.h5\n",
            "Epoch 23/250\n",
            "16/16 [==============================] - 11s 746ms/step - loss: 0.0733 - categorical_accuracy: 0.9749 - val_loss: 1.7034 - val_categorical_accuracy: 0.7051\n",
            "\n",
            "Epoch 00023: val_categorical_accuracy did not improve from 0.73372\n",
            "Epoch 24/250\n",
            "16/16 [==============================] - 11s 739ms/step - loss: 0.0877 - categorical_accuracy: 0.9677 - val_loss: 1.2221 - val_categorical_accuracy: 0.7044\n",
            "\n",
            "Epoch 00024: val_categorical_accuracy did not improve from 0.73372\n",
            "Epoch 25/250\n",
            "16/16 [==============================] - 11s 736ms/step - loss: 0.0664 - categorical_accuracy: 0.9796 - val_loss: 1.6323 - val_categorical_accuracy: 0.6641\n",
            "\n",
            "Epoch 00025: val_categorical_accuracy did not improve from 0.73372\n",
            "Epoch 26/250\n",
            "16/16 [==============================] - 11s 738ms/step - loss: 0.0336 - categorical_accuracy: 0.9898 - val_loss: 1.1979 - val_categorical_accuracy: 0.7227\n",
            "\n",
            "Epoch 00026: val_categorical_accuracy did not improve from 0.73372\n",
            "Epoch 27/250\n",
            "16/16 [==============================] - 11s 737ms/step - loss: 0.0400 - categorical_accuracy: 0.9846 - val_loss: 1.7076 - val_categorical_accuracy: 0.6589\n",
            "\n",
            "Epoch 00027: val_categorical_accuracy did not improve from 0.73372\n",
            "Epoch 28/250\n",
            "16/16 [==============================] - 11s 730ms/step - loss: 0.0470 - categorical_accuracy: 0.9825 - val_loss: 1.3467 - val_categorical_accuracy: 0.7129\n",
            "\n",
            "Epoch 00028: val_categorical_accuracy did not improve from 0.73372\n",
            "Epoch 29/250\n",
            "16/16 [==============================] - 11s 740ms/step - loss: 0.0375 - categorical_accuracy: 0.9888 - val_loss: 1.4119 - val_categorical_accuracy: 0.7227\n",
            "\n",
            "Epoch 00029: val_categorical_accuracy did not improve from 0.73372\n",
            "Epoch 30/250\n",
            "16/16 [==============================] - 11s 732ms/step - loss: 0.0353 - categorical_accuracy: 0.9898 - val_loss: 1.5239 - val_categorical_accuracy: 0.7155\n",
            "\n",
            "Epoch 00030: val_categorical_accuracy did not improve from 0.73372\n",
            "Epoch 31/250\n",
            "16/16 [==============================] - 11s 739ms/step - loss: 0.0427 - categorical_accuracy: 0.9865 - val_loss: 1.3575 - val_categorical_accuracy: 0.7305\n",
            "\n",
            "Epoch 00031: val_categorical_accuracy did not improve from 0.73372\n",
            "Epoch 32/250\n",
            "16/16 [==============================] - 11s 742ms/step - loss: 0.0632 - categorical_accuracy: 0.9805 - val_loss: 1.3304 - val_categorical_accuracy: 0.7051\n",
            "\n",
            "Epoch 00032: val_categorical_accuracy did not improve from 0.73372\n",
            "Epoch 33/250\n",
            "16/16 [==============================] - 11s 732ms/step - loss: 0.0581 - categorical_accuracy: 0.9800 - val_loss: 2.2948 - val_categorical_accuracy: 0.5775\n",
            "\n",
            "Epoch 00033: val_categorical_accuracy did not improve from 0.73372\n",
            "Epoch 34/250\n",
            "16/16 [==============================] - 11s 744ms/step - loss: 0.0441 - categorical_accuracy: 0.9854 - val_loss: 2.7866 - val_categorical_accuracy: 0.6107\n",
            "\n",
            "Epoch 00034: val_categorical_accuracy did not improve from 0.73372\n",
            "Epoch 35/250\n",
            "16/16 [==============================] - 11s 719ms/step - loss: 0.0638 - categorical_accuracy: 0.9821 - val_loss: 1.8652 - val_categorical_accuracy: 0.6764\n",
            "\n",
            "Epoch 00035: val_categorical_accuracy did not improve from 0.73372\n",
            "Epoch 36/250\n",
            "16/16 [==============================] - 11s 726ms/step - loss: 0.0762 - categorical_accuracy: 0.9750 - val_loss: 1.9648 - val_categorical_accuracy: 0.6257\n",
            "\n",
            "Epoch 00036: val_categorical_accuracy did not improve from 0.73372\n",
            "\n",
            "Epoch 00036: ReduceLROnPlateau reducing learning rate to 0.00010000000474974513.\n",
            "Epoch 37/250\n",
            "16/16 [==============================] - 11s 724ms/step - loss: 0.0337 - categorical_accuracy: 0.9920 - val_loss: 1.6848 - val_categorical_accuracy: 0.6771\n",
            "\n",
            "Epoch 00037: val_categorical_accuracy did not improve from 0.73372\n",
            "Epoch 38/250\n",
            "16/16 [==============================] - 11s 723ms/step - loss: 0.0175 - categorical_accuracy: 0.9955 - val_loss: 1.3993 - val_categorical_accuracy: 0.7194\n",
            "\n",
            "Epoch 00038: val_categorical_accuracy did not improve from 0.73372\n",
            "Epoch 39/250\n",
            "16/16 [==============================] - 11s 720ms/step - loss: 0.0058 - categorical_accuracy: 0.9995 - val_loss: 1.2753 - val_categorical_accuracy: 0.7376\n",
            "\n",
            "Epoch 00039: val_categorical_accuracy improved from 0.73372 to 0.73763, saving model to densenet121_leaf.h5\n",
            "Epoch 40/250\n",
            "16/16 [==============================] - 11s 723ms/step - loss: 0.0065 - categorical_accuracy: 0.9998 - val_loss: 1.2087 - val_categorical_accuracy: 0.7422\n",
            "\n",
            "Epoch 00040: val_categorical_accuracy improved from 0.73763 to 0.74219, saving model to densenet121_leaf.h5\n",
            "Epoch 41/250\n",
            "16/16 [==============================] - 11s 716ms/step - loss: 0.0063 - categorical_accuracy: 0.9995 - val_loss: 1.1228 - val_categorical_accuracy: 0.7617\n",
            "\n",
            "Epoch 00041: val_categorical_accuracy improved from 0.74219 to 0.76172, saving model to densenet121_leaf.h5\n",
            "Epoch 42/250\n",
            "16/16 [==============================] - 11s 722ms/step - loss: 0.0036 - categorical_accuracy: 1.0000 - val_loss: 1.1081 - val_categorical_accuracy: 0.7663\n",
            "\n",
            "Epoch 00042: val_categorical_accuracy improved from 0.76172 to 0.76628, saving model to densenet121_leaf.h5\n",
            "Epoch 43/250\n",
            "16/16 [==============================] - 11s 730ms/step - loss: 0.0056 - categorical_accuracy: 0.9995 - val_loss: 1.0644 - val_categorical_accuracy: 0.7780\n",
            "\n",
            "Epoch 00043: val_categorical_accuracy improved from 0.76628 to 0.77799, saving model to densenet121_leaf.h5\n",
            "Epoch 44/250\n",
            "16/16 [==============================] - 11s 721ms/step - loss: 0.0036 - categorical_accuracy: 1.0000 - val_loss: 1.0566 - val_categorical_accuracy: 0.7754\n",
            "\n",
            "Epoch 00044: val_categorical_accuracy did not improve from 0.77799\n",
            "Epoch 45/250\n",
            "16/16 [==============================] - 11s 729ms/step - loss: 0.0030 - categorical_accuracy: 1.0000 - val_loss: 1.0240 - val_categorical_accuracy: 0.7839\n",
            "\n",
            "Epoch 00045: val_categorical_accuracy improved from 0.77799 to 0.78385, saving model to densenet121_leaf.h5\n",
            "Epoch 46/250\n",
            "16/16 [==============================] - 11s 724ms/step - loss: 0.0038 - categorical_accuracy: 0.9998 - val_loss: 1.0188 - val_categorical_accuracy: 0.7975\n",
            "\n",
            "Epoch 00046: val_categorical_accuracy improved from 0.78385 to 0.79753, saving model to densenet121_leaf.h5\n",
            "Epoch 47/250\n",
            "16/16 [==============================] - 11s 715ms/step - loss: 0.0033 - categorical_accuracy: 1.0000 - val_loss: 1.0057 - val_categorical_accuracy: 0.7982\n",
            "\n",
            "Epoch 00047: val_categorical_accuracy improved from 0.79753 to 0.79818, saving model to densenet121_leaf.h5\n",
            "Epoch 48/250\n",
            "16/16 [==============================] - 11s 753ms/step - loss: 0.0030 - categorical_accuracy: 1.0000 - val_loss: 1.0055 - val_categorical_accuracy: 0.7982\n",
            "\n",
            "Epoch 00048: val_categorical_accuracy did not improve from 0.79818\n",
            "Epoch 49/250\n",
            "16/16 [==============================] - 11s 728ms/step - loss: 0.0037 - categorical_accuracy: 1.0000 - val_loss: 1.0403 - val_categorical_accuracy: 0.7878\n",
            "\n",
            "Epoch 00049: val_categorical_accuracy did not improve from 0.79818\n",
            "Epoch 50/250\n",
            "16/16 [==============================] - 11s 722ms/step - loss: 0.0025 - categorical_accuracy: 1.0000 - val_loss: 1.0349 - val_categorical_accuracy: 0.7904\n",
            "\n",
            "Epoch 00050: val_categorical_accuracy did not improve from 0.79818\n",
            "Epoch 51/250\n",
            "16/16 [==============================] - 11s 728ms/step - loss: 0.0024 - categorical_accuracy: 1.0000 - val_loss: 1.0439 - val_categorical_accuracy: 0.7871\n",
            "\n",
            "Epoch 00051: val_categorical_accuracy did not improve from 0.79818\n",
            "Epoch 52/250\n",
            "16/16 [==============================] - 11s 730ms/step - loss: 0.0025 - categorical_accuracy: 1.0000 - val_loss: 1.0241 - val_categorical_accuracy: 0.7917\n",
            "\n",
            "Epoch 00052: val_categorical_accuracy did not improve from 0.79818\n",
            "Epoch 53/250\n",
            "16/16 [==============================] - 11s 722ms/step - loss: 0.0027 - categorical_accuracy: 1.0000 - val_loss: 1.0358 - val_categorical_accuracy: 0.7943\n",
            "\n",
            "Epoch 00053: val_categorical_accuracy did not improve from 0.79818\n",
            "Epoch 54/250\n",
            "16/16 [==============================] - 11s 723ms/step - loss: 0.0024 - categorical_accuracy: 1.0000 - val_loss: 1.0396 - val_categorical_accuracy: 0.7891\n",
            "\n",
            "Epoch 00054: val_categorical_accuracy did not improve from 0.79818\n",
            "Epoch 55/250\n",
            "16/16 [==============================] - 11s 728ms/step - loss: 0.0021 - categorical_accuracy: 1.0000 - val_loss: 1.0650 - val_categorical_accuracy: 0.7871\n",
            "\n",
            "Epoch 00055: val_categorical_accuracy did not improve from 0.79818\n",
            "Epoch 56/250\n",
            "16/16 [==============================] - 11s 731ms/step - loss: 0.0020 - categorical_accuracy: 1.0000 - val_loss: 1.0378 - val_categorical_accuracy: 0.7878\n",
            "\n",
            "Epoch 00056: val_categorical_accuracy did not improve from 0.79818\n",
            "Epoch 57/250\n",
            "16/16 [==============================] - 11s 729ms/step - loss: 0.0017 - categorical_accuracy: 1.0000 - val_loss: 1.0784 - val_categorical_accuracy: 0.7832\n",
            "\n",
            "Epoch 00057: val_categorical_accuracy did not improve from 0.79818\n",
            "Epoch 58/250\n",
            "16/16 [==============================] - 11s 728ms/step - loss: 0.0023 - categorical_accuracy: 0.9996 - val_loss: 1.0691 - val_categorical_accuracy: 0.7852\n",
            "\n",
            "Epoch 00058: val_categorical_accuracy did not improve from 0.79818\n",
            "\n",
            "Epoch 00058: ReduceLROnPlateau reducing learning rate to 1.0000000474974514e-05.\n",
            "Epoch 59/250\n",
            "16/16 [==============================] - 11s 727ms/step - loss: 0.0013 - categorical_accuracy: 1.0000 - val_loss: 1.0676 - val_categorical_accuracy: 0.7826\n",
            "\n",
            "Epoch 00059: val_categorical_accuracy did not improve from 0.79818\n",
            "Epoch 60/250\n",
            "16/16 [==============================] - 11s 724ms/step - loss: 0.0019 - categorical_accuracy: 1.0000 - val_loss: 1.0657 - val_categorical_accuracy: 0.7871\n",
            "\n",
            "Epoch 00060: val_categorical_accuracy did not improve from 0.79818\n",
            "Epoch 61/250\n",
            "16/16 [==============================] - 11s 725ms/step - loss: 0.0017 - categorical_accuracy: 1.0000 - val_loss: 1.0814 - val_categorical_accuracy: 0.7839\n",
            "\n",
            "Epoch 00061: val_categorical_accuracy did not improve from 0.79818\n",
            "Epoch 62/250\n",
            "16/16 [==============================] - 11s 720ms/step - loss: 0.0018 - categorical_accuracy: 1.0000 - val_loss: 1.0831 - val_categorical_accuracy: 0.7832\n",
            "\n",
            "Epoch 00062: val_categorical_accuracy did not improve from 0.79818\n",
            "Epoch 63/250\n",
            "16/16 [==============================] - 11s 725ms/step - loss: 0.0039 - categorical_accuracy: 0.9994 - val_loss: 1.0851 - val_categorical_accuracy: 0.7819\n",
            "\n",
            "Epoch 00063: val_categorical_accuracy did not improve from 0.79818\n",
            "Epoch 00063: early stopping\n"
          ],
          "name": "stdout"
        }
      ]
    },
    {
      "cell_type": "markdown",
      "metadata": {
        "id": "q4oacOBk4F0b"
      },
      "source": [
        "## Model history"
      ]
    },
    {
      "cell_type": "code",
      "metadata": {
        "colab": {
          "base_uri": "https://localhost:8080/",
          "height": 320
        },
        "id": "SqdWXP41p5c6",
        "outputId": "cc61ccc3-a53b-4143-9bb4-04203a7dde70"
      },
      "source": [
        "def plot_history(history):\n",
        "    \"\"\"\n",
        "    Plots model training history \n",
        "    \"\"\"\n",
        "    fig, (ax_loss, ax_acc) = plt.subplots(1, 2, figsize=(15,5))\n",
        "    ax_loss.plot(history.epoch, history.history[\"loss\"], label=\"Train loss\")\n",
        "    ax_loss.plot(history.epoch, history.history[\"val_loss\"], label=\"Validation loss\")\n",
        "    ax_loss.legend()\n",
        "    ax_acc.plot(history.epoch, history.history[\"categorical_accuracy\"], label=\"Train IoU\")\n",
        "    ax_acc.plot(history.epoch, history.history[\"val_categorical_accuracy\"], label=\"Validation IoU\")\n",
        "    ax_acc.legend()\n",
        "    plt.show()\n",
        "\n",
        "    # show history\n",
        "plot_history(history)"
      ],
      "execution_count": 10,
      "outputs": [
        {
          "output_type": "display_data",
          "data": {
            "image/png": "[encoded data removed]",
            "text/plain": [
              "<Figure size 1080x360 with 2 Axes>"
            ]
          },
          "metadata": {
            "tags": [],
            "needs_background": "light"
          }
        }
      ]
    },
    {
      "cell_type": "markdown",
      "metadata": {
        "id": "_AuT59Kj4Od0"
      },
      "source": [
        "# Predictions\n",
        "**Helpers**\n",
        "* USE binary functions only with binary images"
      ]
    },
    {
      "cell_type": "code",
      "metadata": {
        "id": "NnwoZUzSqUWj"
      },
      "source": [
        "import cv2\n",
        "from glob import glob \n",
        "def stripPads(arr,val):\n",
        "    '''\n",
        "        strip specific values\n",
        "    '''\n",
        "    arr=arr[~np.all(arr == val, axis=1)]\n",
        "    arr=arr[:, ~np.all(arr == val, axis=0)]\n",
        "    return arr\n",
        "def binary_thresh(img):\n",
        "    # Otsu's thresholding after Gaussian filtering\n",
        "    blur = cv2.GaussianBlur(img,(5,5),0)\n",
        "    _,img = cv2.threshold(blur,0,255,cv2.THRESH_BINARY+cv2.THRESH_OTSU)\n",
        "    return img  \n",
        "\n",
        "def binary_inversion(img):\n",
        "    img = img/255\n",
        "    img = 1 - img\n",
        "    return img\n",
        "\n",
        "def binary_revert(img):\n",
        "    img = 1 -img\n",
        "    img = img*255\n",
        "    img=img.astype('uint8')\n",
        "    return img\n",
        "    \n",
        "\n",
        "  \n",
        "\n",
        "\n"
      ],
      "execution_count": null,
      "outputs": []
    },
    {
      "cell_type": "markdown",
      "metadata": {
        "id": "yIwPLCaX60Ix"
      },
      "source": [
        "**THIS FUNCTION WILL CHANGE ON BINARY DATA**"
      ]
    },
    {
      "cell_type": "code",
      "metadata": {
        "id": "vGICXNc26yrL"
      },
      "source": [
        "def binary_check(img):\n",
        "  img = cv2.dilate(img,(3,3),\n",
        "                   iterations = 10) \n",
        "  return img"
      ],
      "execution_count": null,
      "outputs": []
    },
    {
      "cell_type": "markdown",
      "metadata": {
        "id": "wyr62pPj5RW7"
      },
      "source": [
        "## Prediction Data processing\n",
        "* Create a folder called **data** and upload all the images there\n",
        "* For using TPU the number of data has to be > = 8"
      ]
    },
    {
      "cell_type": "code",
      "metadata": {
        "id": "ZG8Hyu6x5Cjo"
      },
      "source": [
        "data=[]\n",
        "for img_path in glob(os.path.join(os.getcwd(),'data','*.*')):\n",
        "  # read image\n",
        "  if IMAGE_TYPE=='rgb':\n",
        "    img=cv2.imread(img_path)\n",
        "  else:\n",
        "    img=cv2.imread(img_path,0)\n",
        "  # check binary ops\n",
        "  if IMAGE_TYPE=='binary':\n",
        "    img=binary_thresh(img)\n",
        "    img=stripPads(img,255)\n",
        "    img=cv2.resize(img,(IMG_DIM,IMG_DIM))\n",
        "    img=binary_thresh(img)\n",
        "    img=binary_inversion(img)\n",
        "    img=binary_check(img)\n",
        "    img=binary_revert(img)\n",
        "    \n",
        "  else:\n",
        "    img=cv2.resize(img,(IMG_DIM,IMG_DIM))\n",
        "    \n",
        "  img=np.expand_dims(img,axis=-1)\n",
        "  if IMAGE_TYPE!='rgb':\n",
        "    img=np.expand_dims(img,axis=0)\n",
        "  \n",
        "  data.append(img)\n",
        "\n",
        "if len(data)<8:\n",
        "  # fill the rest with first data\n",
        "  for i in range(8-len(data)):\n",
        "    data.append(data[0])\n",
        "# stack\n",
        "data=np.vstack(data)\n",
        "# normalize and float conversion\n",
        "data=data/255.0\n",
        "data.shape\n",
        "\n"
      ],
      "execution_count": null,
      "outputs": []
    },
    {
      "cell_type": "markdown",
      "metadata": {
        "id": "cvFgNGjo7gB0"
      },
      "source": [
        "## Display Predictions"
      ]
    },
    {
      "cell_type": "code",
      "metadata": {
        "id": "OMX6Sssxrck1"
      },
      "source": [
        "preds=model.predict(data)\n",
        "for pred,img in zip(preds,data):\n",
        "  img=img*255\n",
        "  img=img.astype('uint8')\n",
        "  plt.imshow(np.squeeze(img))\n",
        "  plt.show()\n",
        "  print(LABELS[np.argmax(pred)])\n"
      ],
      "execution_count": null,
      "outputs": []
    }
  ]
}